{
  "nbformat": 4,
  "nbformat_minor": 0,
  "metadata": {
    "colab": {
      "name": "Assignment_5(SVM-boosting).ipynb",
      "provenance": []
    },
    "kernelspec": {
      "name": "python3",
      "display_name": "Python 3"
    },
    "language_info": {
      "name": "python"
    }
  },
  "cells": [
    {
      "cell_type": "code",
      "metadata": {
        "id": "0eVYRIjp30_P"
      },
      "source": [
        "import pandas as pd\n",
        "import numpy as np\n",
        "import matplotlib.pyplot as plt\n",
        "from sklearn.utils import shuffle\n",
        "from sklearn.model_selection import train_test_split\n",
        "from sklearn.metrics import accuracy_score, hinge_loss\n",
        "from sklearn.svm import SVC\n",
        "from sklearn.metrics import classification_report, confusion_matrix\n",
        "from sklearn.metrics import confusion_matrix\n",
        "from sklearn import metrics\n",
        "import random"
      ],
      "execution_count": 18,
      "outputs": []
    },
    {
      "cell_type": "code",
      "metadata": {
        "id": "q7m43rO84L1M",
        "colab": {
          "base_uri": "https://localhost:8080/"
        },
        "outputId": "38142d47-99cc-4abe-9a79-536468e23088"
      },
      "source": [
        "data = pd.read_csv(\"letter-recognition.data\", delimiter = ',') \n",
        "data.columns =['Label',\t'1',\t'2',\t'3',\t'4',\t'5',\t'6',\t'7',\t'8',\t'9',\t'10',\t'11',\t'12',\t'13',\t'14',\t'15',\t'16']\n",
        "print('Sample- data')\n",
        "print(data[:5])\n",
        "indexing = {'A':0, 'B':1, 'C':2, 'D':3, 'E':4, 'F':5, 'G':6, 'H':7, 'I':8, 'J':9, 'K':10, 'L':11, 'M':12, 'N':13, 'O':14, 'P':15, 'Q':16, 'R':17, 'S':18, 'T':19, 'U':20, 'V':21, 'W':22, 'X':23, 'Y':24, 'Z':25}"
      ],
      "execution_count": 29,
      "outputs": [
        {
          "output_type": "stream",
          "text": [
            "Sample- data\n",
            "  Label  1   2  3  4  5   6  7  8  9  10  11  12  13  14  15  16\n",
            "0     I  5  12  3  7  2  10  5  5  4  13   3   9   2   8   4  10\n",
            "1     D  4  11  6  8  6  10  6  2  6  10   3   7   3   7   3   9\n",
            "2     N  7  11  6  6  3   5  9  4  6   4   4  10   6  10   2   8\n",
            "3     G  2   1  3  1  1   8  6  6  6   6   5   9   1   7   5  10\n",
            "4     S  4  11  5  8  3   8  8  6  9   5   6   6   0   8   9   7\n"
          ],
          "name": "stdout"
        }
      ]
    },
    {
      "cell_type": "code",
      "metadata": {
        "id": "cn9xp25J4RZe"
      },
      "source": [
        "def improvised_svm_bm(Train,N,n2,T,q,Kernel):\n",
        "\n",
        "  # step 1: draw randomly N sample\n",
        "  Random_N_sample= Train.sample(N)\n",
        "\n",
        "  #Train ISVM using differnt Kernel\n",
        "  X_Random_N_sample= Random_N_sample.drop('Label',axis=1)\n",
        "  Y_Random_N_sample= Random_N_sample['Label']\n",
        "\n",
        "  if Kernel== \"linear\":\n",
        "    Model_Sample= SVC(kernel = Kernel)\n",
        "  if Kernel== \"rbf\":\n",
        "    Model_Sample= SVC(kernel = Kernel,random_state=0)\n",
        "  if Kernel== \"sigmoid\":\n",
        "    Model_Sample= SVC(kernel = Kernel)\n",
        "  if Kernel== \"poly\":\n",
        "    Model_Sample= SVC(kernel = Kernel,degree = 2)\n",
        "\n",
        "  Model_Sample.fit(X_Random_N_sample,Y_Random_N_sample)\n",
        "  zt= Train.sample()\n",
        "  threshold= 0.5\n",
        "\n",
        "  for j in range(T):\n",
        "      i= 1;\n",
        "      n1= 0;\n",
        "      Dt= []\n",
        "      while i<=N:\n",
        "\n",
        "        z_star= Train.sample()\n",
        "        \n",
        "        zt_x= zt.drop('Label', axis=1)\n",
        "        zt_y= zt['Label']\n",
        "        zt_decison = Model_Sample.decision_function(zt_x) \n",
        "        zt_pre = max(zt_decison[0]) \n",
        "\n",
        "        zstar_x= z_star.drop('Label', axis=1)\n",
        "        zstar_y= z_star['Label']\n",
        "        zstar_decison = Model_Sample.decision_function(zstar_x)  \n",
        "        zstar_pre = max(zstar_decison[0]) \n",
        "        # print(zstar_y)\n",
        "\n",
        "        prob_t = min(1,np.exp(np.log2(abs(zstar_pre/zt_pre))))\n",
        "        if n1 > n2:\n",
        "          prob_t= min(1,q*prob_t)\n",
        "          zt= z_star\n",
        "          Dt.append(zt)\n",
        "          i= i+1\n",
        "          n1= 0\n",
        "\n",
        "        if random.uniform(0, 1) < prob_t:\n",
        "          zt= z_star\n",
        "          Dt.append(zt)\n",
        "          i= i+1\n",
        "          n1= 0\n",
        "\n",
        "        if prob_t < threshold:\n",
        "          n1= n1+1\n",
        "      \n",
        "      Dt = pd.concat(Dt)\n",
        "      X_t = Dt.drop('Label',axis=1)\n",
        "      Y_t = Dt['Label']\n",
        "      if Kernel== \"linear\":\n",
        "        Model_t = SVC(kernel = Kernel)\n",
        "      if Kernel== \"rbf\":\n",
        "        Model_t = SVC(kernel = Kernel,random_state=0)\n",
        "      if Kernel== \"sigmoid\":\n",
        "        Model_t = SVC(kernel = Kernel)\n",
        "      if Kernel== \"poly\":\n",
        "        Model_t= SVC(kernel = Kernel,degree = 2)\n",
        "\n",
        "      Model_t.fit(X_t,Y_t)\n",
        "      zt= z_star  \n",
        "\n",
        "  return Model_Sample"
      ],
      "execution_count": 20,
      "outputs": []
    },
    {
      "cell_type": "code",
      "metadata": {
        "id": "AnB9FOE-4Zsq"
      },
      "source": [
        "len = round(data.shape[0]*0.8)\n",
        "train, test = data[:len], data[len:]"
      ],
      "execution_count": 21,
      "outputs": []
    },
    {
      "cell_type": "code",
      "metadata": {
        "id": "m-telbXQ4usN"
      },
      "source": [
        "test_x = test.drop('Label', axis=1)\n",
        "test_y = test['Label']"
      ],
      "execution_count": 22,
      "outputs": []
    },
    {
      "cell_type": "code",
      "metadata": {
        "id": "lfw-l39S4x1U",
        "colab": {
          "base_uri": "https://localhost:8080/"
        },
        "outputId": "d481b947-9fa4-4180-b6ed-3c3d9552b7d6"
      },
      "source": [
        "improvised_svm_bm_model = improvised_svm_bm(train,100,10,10,1.3,\"linear\")\n",
        "improvised_svm_bm_prediction = improvised_svm_bm_model.predict(test_x)\n",
        "\n",
        "print(classification_report(test_y, improvised_svm_bm_prediction),\"\\n\")\n",
        "linear_kernel= metrics.accuracy_score(test_y, improvised_svm_bm_prediction)\n",
        "print(\"accuracy\", metrics.accuracy_score(test_y, improvised_svm_bm_prediction), \"\\n\")"
      ],
      "execution_count": 23,
      "outputs": [
        {
          "output_type": "stream",
          "text": [
            "              precision    recall  f1-score   support\n",
            "\n",
            "           A       0.90      0.82      0.86       156\n",
            "           B       0.34      0.42      0.37       136\n",
            "           C       0.64      0.60      0.62       142\n",
            "           D       0.47      0.46      0.46       167\n",
            "           E       0.11      0.06      0.08       152\n",
            "           F       0.52      0.62      0.56       153\n",
            "           G       0.42      0.36      0.39       164\n",
            "           H       0.16      0.13      0.14       151\n",
            "           I       0.58      0.60      0.59       165\n",
            "           J       0.20      0.20      0.20       148\n",
            "           K       0.39      0.67      0.50       146\n",
            "           L       0.57      0.49      0.53       157\n",
            "           M       0.69      0.67      0.68       144\n",
            "           N       0.54      0.68      0.60       166\n",
            "           O       0.40      0.50      0.45       139\n",
            "           P       0.47      0.58      0.52       168\n",
            "           Q       0.58      0.62      0.60       168\n",
            "           R       0.45      0.42      0.43       161\n",
            "           S       0.37      0.42      0.39       161\n",
            "           T       0.80      0.26      0.39       151\n",
            "           U       0.68      0.71      0.70       168\n",
            "           V       0.73      0.75      0.74       136\n",
            "           W       0.94      0.58      0.71       139\n",
            "           X       0.27      0.25      0.26       159\n",
            "           Y       0.43      0.57      0.49       145\n",
            "           Z       0.60      0.49      0.54       158\n",
            "\n",
            "    accuracy                           0.50      4000\n",
            "   macro avg       0.51      0.50      0.49      4000\n",
            "weighted avg       0.51      0.50      0.49      4000\n",
            " \n",
            "\n",
            "accuracy 0.49775 \n",
            "\n"
          ],
          "name": "stdout"
        }
      ]
    },
    {
      "cell_type": "code",
      "metadata": {
        "colab": {
          "base_uri": "https://localhost:8080/"
        },
        "id": "aEQbl0vpR4_g",
        "outputId": "96bee97b-8701-4122-fbd6-09e6d7a2f1de"
      },
      "source": [
        "improvised_svm_bm_model = improvised_svm_bm(train, 100,10,10,1.3,\"rbf\")\n",
        "improvised_svm_bm_prediction = improvised_svm_bm_model.predict(test_x)\n",
        "# print(test_y)\n",
        "# print(\" \")\n",
        "# print(K_time_markov_model_prediction)\n",
        "print(classification_report(test_y, improvised_svm_bm_prediction),\"\\n\")\n",
        "rbf_kernel= metrics.accuracy_score(test_y, improvised_svm_bm_prediction)\n",
        "print(\"accuracy\", metrics.accuracy_score(test_y, improvised_svm_bm_prediction), \"\\n\")"
      ],
      "execution_count": 24,
      "outputs": [
        {
          "output_type": "stream",
          "text": [
            "              precision    recall  f1-score   support\n",
            "\n",
            "           A       0.00      0.00      0.00       156\n",
            "           B       0.00      0.00      0.00       136\n",
            "           C       0.51      0.44      0.47       142\n",
            "           D       0.24      0.68      0.35       167\n",
            "           E       0.00      0.00      0.00       152\n",
            "           F       0.00      0.00      0.00       153\n",
            "           G       0.24      0.04      0.07       164\n",
            "           H       0.00      0.00      0.00       151\n",
            "           I       0.10      0.90      0.18       165\n",
            "           J       0.00      0.00      0.00       148\n",
            "           K       0.00      0.00      0.00       146\n",
            "           L       0.95      0.48      0.64       157\n",
            "           M       0.41      0.58      0.48       144\n",
            "           N       0.32      0.18      0.23       166\n",
            "           O       0.00      0.00      0.00       139\n",
            "           P       0.00      0.00      0.00       168\n",
            "           Q       0.00      0.00      0.00       168\n",
            "           R       0.00      0.00      0.00       161\n",
            "           S       0.00      0.00      0.00       161\n",
            "           T       0.35      0.48      0.41       151\n",
            "           U       0.42      0.24      0.30       168\n",
            "           V       0.45      0.43      0.44       136\n",
            "           W       0.61      0.76      0.68       139\n",
            "           X       0.09      0.48      0.15       159\n",
            "           Y       0.31      0.16      0.21       145\n",
            "           Z       1.00      0.18      0.31       158\n",
            "\n",
            "    accuracy                           0.23      4000\n",
            "   macro avg       0.23      0.23      0.19      4000\n",
            "weighted avg       0.23      0.23      0.19      4000\n",
            " \n",
            "\n",
            "accuracy 0.231 \n",
            "\n"
          ],
          "name": "stdout"
        },
        {
          "output_type": "stream",
          "text": [
            "/usr/local/lib/python3.7/dist-packages/sklearn/metrics/_classification.py:1272: UndefinedMetricWarning: Precision and F-score are ill-defined and being set to 0.0 in labels with no predicted samples. Use `zero_division` parameter to control this behavior.\n",
            "  _warn_prf(average, modifier, msg_start, len(result))\n"
          ],
          "name": "stderr"
        }
      ]
    },
    {
      "cell_type": "code",
      "metadata": {
        "colab": {
          "base_uri": "https://localhost:8080/"
        },
        "id": "wXdkzKSWR6xd",
        "outputId": "31e1928a-618c-4cd6-bc30-21defa44828a"
      },
      "source": [
        "improvised_svm_bm_model = improvised_svm_bm(train, 100,10,10,1.3,\"sigmoid\")\n",
        "improvised_svm_bm_prediction = improvised_svm_bm_model.predict(test_x)\n",
        "\n",
        "print(classification_report(test_y, improvised_svm_bm_prediction),\"\\n\")\n",
        "sigmoid_kernel= metrics.accuracy_score(test_y, improvised_svm_bm_prediction)\n",
        "print(\"accuracy\", metrics.accuracy_score(test_y, improvised_svm_bm_prediction), \"\\n\")"
      ],
      "execution_count": 25,
      "outputs": [
        {
          "output_type": "stream",
          "text": [
            "              precision    recall  f1-score   support\n",
            "\n",
            "           A       0.00      0.00      0.00       156\n",
            "           B       0.06      0.30      0.10       136\n",
            "           C       0.00      0.00      0.00       142\n",
            "           D       0.00      0.00      0.00       167\n",
            "           E       0.00      0.00      0.00       152\n",
            "           F       0.00      0.00      0.00       153\n",
            "           G       0.00      0.00      0.00       164\n",
            "           H       0.00      0.00      0.00       151\n",
            "           I       0.00      0.00      0.00       165\n",
            "           J       0.00      0.00      0.00       148\n",
            "           K       0.00      0.00      0.00       146\n",
            "           L       0.00      0.00      0.00       157\n",
            "           M       0.00      0.00      0.00       144\n",
            "           N       0.00      0.00      0.00       166\n",
            "           O       0.04      0.92      0.08       139\n",
            "           P       0.00      0.00      0.00       168\n",
            "           Q       0.00      0.00      0.00       168\n",
            "           R       0.00      0.00      0.00       161\n",
            "           S       0.00      0.00      0.00       161\n",
            "           T       0.00      0.00      0.00       151\n",
            "           U       0.00      0.00      0.00       168\n",
            "           V       0.00      0.00      0.00       136\n",
            "           W       0.00      0.00      0.00       139\n",
            "           X       0.00      0.00      0.00       159\n",
            "           Y       0.11      0.21      0.14       145\n",
            "           Z       0.00      0.00      0.00       158\n",
            "\n",
            "    accuracy                           0.05      4000\n",
            "   macro avg       0.01      0.05      0.01      4000\n",
            "weighted avg       0.01      0.05      0.01      4000\n",
            " \n",
            "\n",
            "accuracy 0.04975 \n",
            "\n"
          ],
          "name": "stdout"
        },
        {
          "output_type": "stream",
          "text": [
            "/usr/local/lib/python3.7/dist-packages/sklearn/metrics/_classification.py:1272: UndefinedMetricWarning: Precision and F-score are ill-defined and being set to 0.0 in labels with no predicted samples. Use `zero_division` parameter to control this behavior.\n",
            "  _warn_prf(average, modifier, msg_start, len(result))\n"
          ],
          "name": "stderr"
        }
      ]
    },
    {
      "cell_type": "code",
      "metadata": {
        "colab": {
          "base_uri": "https://localhost:8080/"
        },
        "id": "TIodRVlJR7Mj",
        "outputId": "608a09d0-5f17-4848-8cb0-61deb906427b"
      },
      "source": [
        "improvised_svm_bm_model = improvised_svm_bm(train, 100,10,10,1.3,\"poly\")\n",
        "improvised_svm_bm_prediction = improvised_svm_bm_model.predict(test_x)\n",
        "\n",
        "print(classification_report(test_y, improvised_svm_bm_prediction),\"\\n\")\n",
        "polynomial_kernel= metrics.accuracy_score(test_y, improvised_svm_bm_prediction)\n",
        "print(\"accuracy\", metrics.accuracy_score(test_y, improvised_svm_bm_prediction), \"\\n\")"
      ],
      "execution_count": 26,
      "outputs": [
        {
          "output_type": "stream",
          "text": [
            "              precision    recall  f1-score   support\n",
            "\n",
            "           A       0.69      0.66      0.67       156\n",
            "           B       0.31      0.46      0.37       136\n",
            "           C       0.43      0.51      0.47       142\n",
            "           D       0.42      0.53      0.47       167\n",
            "           E       0.31      0.20      0.25       152\n",
            "           F       0.35      0.58      0.44       153\n",
            "           G       0.34      0.38      0.36       164\n",
            "           H       0.11      0.23      0.15       151\n",
            "           I       0.69      0.53      0.60       165\n",
            "           J       0.61      0.43      0.50       148\n",
            "           K       0.29      0.36      0.32       146\n",
            "           L       0.73      0.72      0.72       157\n",
            "           M       0.60      0.49      0.54       144\n",
            "           N       0.49      0.62      0.55       166\n",
            "           O       0.36      0.73      0.48       139\n",
            "           P       0.55      0.64      0.59       168\n",
            "           Q       0.43      0.13      0.20       168\n",
            "           R       0.49      0.43      0.46       161\n",
            "           S       0.32      0.08      0.13       161\n",
            "           T       0.53      0.21      0.30       151\n",
            "           U       0.74      0.53      0.62       168\n",
            "           V       0.18      0.05      0.08       136\n",
            "           W       0.79      0.60      0.68       139\n",
            "           X       0.37      0.34      0.36       159\n",
            "           Y       0.38      0.50      0.43       145\n",
            "           Z       0.38      0.38      0.38       158\n",
            "\n",
            "    accuracy                           0.44      4000\n",
            "   macro avg       0.46      0.43      0.43      4000\n",
            "weighted avg       0.46      0.44      0.43      4000\n",
            " \n",
            "\n",
            "accuracy 0.43525 \n",
            "\n"
          ],
          "name": "stdout"
        }
      ]
    },
    {
      "cell_type": "code",
      "metadata": {
        "colab": {
          "base_uri": "https://localhost:8080/"
        },
        "id": "dCx61j8oWQ13",
        "outputId": "e85081a1-f2bb-4a0e-b3a0-18fd4591c943"
      },
      "source": [
        "print(\"Accuracy\\n\")\n",
        "print(\"linear_kernel     : \",linear_kernel*100)\n",
        "print(\"rbf_kernel        : \",rbf_kernel*100)\n",
        "print(\"sigmoid_kernel    : \",sigmoid_kernel*100)\n",
        "print(\"polynomial_kernel : \",polynomial_kernel*100)"
      ],
      "execution_count": 27,
      "outputs": [
        {
          "output_type": "stream",
          "text": [
            "Accuracy\n",
            "\n",
            "linear_kernel     :  49.775000000000006\n",
            "rbf_kernel        :  23.1\n",
            "sigmoid_kernel    :  4.9750000000000005\n",
            "polynomial_kernel :  43.525000000000006\n"
          ],
          "name": "stdout"
        }
      ]
    },
    {
      "cell_type": "code",
      "metadata": {
        "colab": {
          "base_uri": "https://localhost:8080/"
        },
        "id": "0fUQXvPgVFLY",
        "outputId": "396cd166-d015-4b88-fc28-b8206d6fe4ef"
      },
      "source": [
        "print(\"Misclassification Rate\\n\")\n",
        "print(\"linear_kernel     : \",1-linear_kernel)\n",
        "print(\"rbf_kernel        : \",1-rbf_kernel)\n",
        "print(\"sigmoid_kernel    : \",1-sigmoid_kernel)\n",
        "print(\"polynomial_kernel    : \",1-polynomial_kernel)"
      ],
      "execution_count": 28,
      "outputs": [
        {
          "output_type": "stream",
          "text": [
            "Misclassification Rate\n",
            "\n",
            "linear_kernel     :  0.50225\n",
            "rbf_kernel        :  0.769\n",
            "sigmoid_kernel    :  0.95025\n",
            "polynomial_kernel    :  0.56475\n"
          ],
          "name": "stdout"
        }
      ]
    }
  ]
}