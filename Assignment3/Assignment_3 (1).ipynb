{
  "nbformat": 4,
  "nbformat_minor": 0,
  "metadata": {
    "colab": {
      "name": "Assignment_3.ipynb",
      "provenance": []
    },
    "kernelspec": {
      "name": "python3",
      "display_name": "Python 3"
    },
    "language_info": {
      "name": "python"
    }
  },
  "cells": [
    {
      "cell_type": "code",
      "metadata": {
        "id": "jeMbRIoTpNMi"
      },
      "source": [
        "import pandas as pd\n",
        "import numpy as np\n",
        "import matplotlib.pyplot as plt\n",
        "from sklearn.utils import shuffle\n",
        "from sklearn.model_selection import train_test_split\n",
        "from sklearn.metrics import accuracy_score, hinge_loss\n",
        "from sklearn.svm import SVC\n",
        "from sklearn.metrics import classification_report, confusion_matrix\n",
        "from sklearn.metrics import confusion_matrix\n",
        "from sklearn import metrics"
      ],
      "execution_count": 1,
      "outputs": []
    },
    {
      "cell_type": "code",
      "metadata": {
        "colab": {
          "base_uri": "https://localhost:8080/"
        },
        "id": "yY2k1jmMpPx9",
        "outputId": "d1c35486-212c-4056-9d13-a2692ae089d9"
      },
      "source": [
        "data = pd.read_csv(\"/letter-recognition.data\", delimiter = ',') \n",
        "data.columns =['Label',\t'1',\t'2',\t'3',\t'4',\t'5',\t'6',\t'7',\t'8',\t'9',\t'10',\t'11',\t'12',\t'13',\t'14',\t'15',\t'16']\n",
        "print(data)"
      ],
      "execution_count": 2,
      "outputs": [
        {
          "output_type": "stream",
          "text": [
            "      Label  1   2  3  4  5   6   7  8  9  10  11  12  13  14  15  16\n",
            "0         I  5  12  3  7  2  10   5  5  4  13   3   9   2   8   4  10\n",
            "1         D  4  11  6  8  6  10   6  2  6  10   3   7   3   7   3   9\n",
            "2         N  7  11  6  6  3   5   9  4  6   4   4  10   6  10   2   8\n",
            "3         G  2   1  3  1  1   8   6  6  6   6   5   9   1   7   5  10\n",
            "4         S  4  11  5  8  3   8   8  6  9   5   6   6   0   8   9   7\n",
            "...     ... ..  .. .. .. ..  ..  .. .. ..  ..  ..  ..  ..  ..  ..  ..\n",
            "19994     D  2   2  3  3  2   7   7  7  6   6   6   4   2   8   3   7\n",
            "19995     C  7  10  8  8  4   4   8  6  9  12   9  13   2   9   3   7\n",
            "19996     T  6   9  6  7  5   6  11  3  7  11   9   5   2  12   2   4\n",
            "19997     S  2   3  4  2  1   8   7  2  6  10   6   8   1   9   5   8\n",
            "19998     A  4   9  6  6  2   9   5  3  1   8   1   8   2   7   2   8\n",
            "\n",
            "[19999 rows x 17 columns]\n"
          ],
          "name": "stdout"
        }
      ]
    },
    {
      "cell_type": "code",
      "metadata": {
        "id": "meQCjer0pWOb"
      },
      "source": [
        "indexing = {'A':0, 'B':1, 'C':2, 'D':3, 'E':4, 'F':5, 'G':6, 'H':7, 'I':8, 'J':9, 'K':10, 'L':11, 'M':12, 'N':13, 'O':14, 'P':15, 'Q':16, 'R':17, 'S':18, 'T':19, 'U':20, 'V':21, 'W':22, 'X':23, 'Y':24, 'Z':25}"
      ],
      "execution_count": 4,
      "outputs": []
    },
    {
      "cell_type": "code",
      "metadata": {
        "id": "DzkZ0JYtpdAs"
      },
      "source": [
        "def Markov_sampling_SVM(Train,n,k,q,n2,Kernel):\n",
        "\n",
        "  # step 1: draw randomly N sample\n",
        "  Random_N_sample=Train.sample(n)\n",
        "\n",
        "  #Train SVMC using differnt Kernel\n",
        "  X_Random_N_sample=Random_N_sample.drop('Label',axis=1)\n",
        "  Y_Random_N_sample=Random_N_sample['Label']\n",
        "\n",
        "  if Kernel==\"linear\":\n",
        "    Model_Sample=SVC(kernel = Kernel)\n",
        "  if Kernel==\"rbf\":\n",
        "    Model_Sample=SVC(kernel = Kernel,random_state=0)\n",
        "  if Kernel==\"sigmoid\":\n",
        "    Model_Sample=SVC(kernel = Kernel)\n",
        "  if Kernel==\"poly\":\n",
        "    Model_Sample=SVC(kernel = Kernel,degree = 2)\n",
        "\n",
        "  # f0\n",
        "  Model_Sample.fit(X_Random_N_sample,Y_Random_N_sample)\n",
        "\n",
        "  #step 3\n",
        "  N=[]\n",
        "  i=0\n",
        "\n",
        "  N.append(0)\n",
        "  t=1  \n",
        "\n",
        "  #draw randomly sample zt\n",
        "\n",
        "  zt=Train.sample()\n",
        "  if (N[i]%2==0):\n",
        "    N[i]=N[i]+1\n",
        "\n",
        "  Markov_sample=[]   # for storing the accepted zstar\n",
        "\n",
        "    #step 4\n",
        "  cnt=0\n",
        "  while True:\n",
        "\n",
        "    zstar=Train.sample()\n",
        "\n",
        "    #calculation of alpha or acceptance probablity\n",
        "    zt_x=zt.drop('Label', axis=1)\n",
        "    zt_y=zt['Label']\n",
        "    zt_decison = Model_Sample.decision_function(zt_x) \n",
        "    zt_pre = max(zt_decison[0]) \n",
        "\n",
        "    zstar_x=zstar.drop('Label', axis=1)\n",
        "    zstar_y=zstar['Label']\n",
        "    zstar_decison = Model_Sample.decision_function(zstar_x)  \n",
        "    zstar_pre = max(zstar_decison[0]) \n",
        "\n",
        "    alpha = np.exp(np.log2(abs(zstar_pre/zt_pre)))\n",
        "\n",
        "    #step 5\n",
        "\n",
        "    if round(alpha,2)==1:\n",
        "      Markov_sample.append(zstar)\n",
        "      cnt=0\n",
        "    elif alpha > 1:\n",
        "      Markov_sample.append(zstar)\n",
        "      cnt=0\n",
        "    elif cnt==n2:\n",
        "      Markov_sample.append(zstar)\n",
        "      cnt=0\n",
        "    else:\n",
        "      cnt=cnt+1\n",
        "      continue\n",
        "      \n",
        "    N[i]=N[i]+1\n",
        "    zt=zstar\n",
        "\n",
        "    if N[i]<n/2:\n",
        "      continue\n",
        "    else :\n",
        "      break\n",
        "\n",
        "    #Step 6\n",
        "\n",
        "  Markov_sample = pd.concat(Markov_sample)\n",
        "  #Train N Markov  \n",
        "  X_Markov_sample=Markov_sample.drop('Label',axis=1)\n",
        "  Y_Markov_sample=Markov_sample['Label']\n",
        "\n",
        "  if Kernel==\"linear\":\n",
        "    Markov_Model_Sample=SVC(kernel = Kernel)\n",
        "  if Kernel==\"rbf\":\n",
        "    Markov_Model_Sample=SVC(kernel = Kernel,random_state=0)\n",
        "  if Kernel==\"sigmoid\":\n",
        "    Markov_Model_Sample=SVC(kernel = Kernel)\n",
        "  if Kernel==\"poly\":\n",
        "    Markov_Model_Sample=SVC(kernel = Kernel,degree = 2)\n",
        "\n",
        "\n",
        "  Markov_Model_Sample.fit(X_Markov_sample,Y_Markov_sample)\n",
        "\n",
        "  #step 7\n",
        "  return Markov_Model_Sample"
      ],
      "execution_count": 5,
      "outputs": []
    },
    {
      "cell_type": "code",
      "metadata": {
        "id": "h-q168Ilq6si"
      },
      "source": [
        "len = round(data.shape[0]*0.8)\n",
        "train, test = data[:len], data[len:]"
      ],
      "execution_count": 6,
      "outputs": []
    },
    {
      "cell_type": "code",
      "metadata": {
        "id": "T2pRj8uaq7xy"
      },
      "source": [
        "test_x = test.drop('Label', axis=1)\n",
        "test_y = test['Label']"
      ],
      "execution_count": 7,
      "outputs": []
    },
    {
      "cell_type": "code",
      "metadata": {
        "colab": {
          "base_uri": "https://localhost:8080/"
        },
        "id": "9soPwEWjq8-O",
        "outputId": "6f286ec7-4091-47f2-f7fb-ca53d78af6a2"
      },
      "source": [
        "Markov_model = Markov_sampling_SVM(train, 100, 2, 1.2, 10, \"linear\")\n",
        "Markov_model_prediction = Markov_model.predict(test_x)\n",
        "print(classification_report(test_y, Markov_model_prediction),\"\\n\")\n",
        "linear_kernel= metrics.accuracy_score(test_y, Markov_model_prediction)\n",
        "print(\"accuracy\", metrics.accuracy_score(test_y, Markov_model_prediction), \"\\n\")"
      ],
      "execution_count": 9,
      "outputs": [
        {
          "output_type": "stream",
          "text": [
            "              precision    recall  f1-score   support\n",
            "\n",
            "           A       0.58      0.44      0.50       156\n",
            "           B       0.35      0.15      0.21       136\n",
            "           C       0.28      0.25      0.26       142\n",
            "           D       0.00      0.00      0.00       167\n",
            "           E       0.20      0.09      0.12       152\n",
            "           F       0.10      0.13      0.12       153\n",
            "           G       0.07      0.04      0.05       164\n",
            "           H       0.08      0.12      0.10       151\n",
            "           I       0.63      0.56      0.59       165\n",
            "           J       0.87      0.31      0.46       148\n",
            "           K       0.09      0.21      0.13       146\n",
            "           L       0.82      0.63      0.71       157\n",
            "           M       0.78      0.63      0.70       144\n",
            "           N       0.54      0.25      0.34       166\n",
            "           O       0.15      0.64      0.25       139\n",
            "           P       0.54      0.58      0.56       168\n",
            "           Q       0.38      0.10      0.15       168\n",
            "           R       0.18      0.28      0.22       161\n",
            "           S       0.44      0.31      0.36       161\n",
            "           T       0.39      0.70      0.50       151\n",
            "           U       0.07      0.08      0.08       168\n",
            "           V       0.55      0.57      0.56       136\n",
            "           W       0.75      0.78      0.77       139\n",
            "           X       0.27      0.32      0.29       159\n",
            "           Y       0.54      0.17      0.26       145\n",
            "           Z       0.46      0.36      0.40       158\n",
            "\n",
            "    accuracy                           0.33      4000\n",
            "   macro avg       0.39      0.33      0.33      4000\n",
            "weighted avg       0.39      0.33      0.33      4000\n",
            " \n",
            "\n",
            "accuracy 0.3295 \n",
            "\n"
          ],
          "name": "stdout"
        },
        {
          "output_type": "stream",
          "text": [
            "/usr/local/lib/python3.7/dist-packages/sklearn/metrics/_classification.py:1272: UndefinedMetricWarning: Precision and F-score are ill-defined and being set to 0.0 in labels with no predicted samples. Use `zero_division` parameter to control this behavior.\n",
            "  _warn_prf(average, modifier, msg_start, len(result))\n"
          ],
          "name": "stderr"
        }
      ]
    },
    {
      "cell_type": "code",
      "metadata": {
        "colab": {
          "base_uri": "https://localhost:8080/"
        },
        "id": "hygQlLHdsIfI",
        "outputId": "8ca8cbcf-936f-4246-deb9-0c44752e2bd1"
      },
      "source": [
        "Markov_model = Markov_sampling_SVM(train, 100, 2, 1.2, 10, \"rbf\")\n",
        "Markov_model_prediction = Markov_model.predict(test_x)\n",
        "print(classification_report(test_y, Markov_model_prediction),\"\\n\")\n",
        "rbf_kernel= metrics.accuracy_score(test_y, Markov_model_prediction)\n",
        "print(\"accuracy\", metrics.accuracy_score(test_y, Markov_model_prediction), \"\\n\")"
      ],
      "execution_count": 11,
      "outputs": [
        {
          "output_type": "stream",
          "text": [
            "              precision    recall  f1-score   support\n",
            "\n",
            "           A       0.92      0.54      0.69       156\n",
            "           B       0.00      0.00      0.00       136\n",
            "           C       0.74      0.14      0.24       142\n",
            "           D       0.00      0.00      0.00       167\n",
            "           E       0.00      0.00      0.00       152\n",
            "           F       0.15      0.73      0.26       153\n",
            "           G       0.00      0.00      0.00       164\n",
            "           H       0.08      0.30      0.13       151\n",
            "           I       0.00      0.00      0.00       165\n",
            "           J       0.08      0.12      0.10       148\n",
            "           K       0.06      0.59      0.12       146\n",
            "           L       0.89      0.61      0.72       157\n",
            "           M       1.00      0.01      0.01       144\n",
            "           N       0.00      0.00      0.00       166\n",
            "           O       0.00      0.00      0.00       139\n",
            "           P       0.00      0.00      0.00       168\n",
            "           Q       0.00      0.00      0.00       168\n",
            "           R       0.70      0.10      0.17       161\n",
            "           S       0.00      0.00      0.00       161\n",
            "           T       0.64      0.05      0.09       151\n",
            "           U       0.00      0.00      0.00       168\n",
            "           V       0.41      0.18      0.25       136\n",
            "           W       0.00      0.00      0.00       139\n",
            "           X       0.00      0.00      0.00       159\n",
            "           Y       0.00      0.00      0.00       145\n",
            "           Z       0.15      0.78      0.25       158\n",
            "\n",
            "    accuracy                           0.16      4000\n",
            "   macro avg       0.22      0.16      0.12      4000\n",
            "weighted avg       0.22      0.16      0.12      4000\n",
            " \n",
            "\n",
            "accuracy 0.1585 \n",
            "\n"
          ],
          "name": "stdout"
        },
        {
          "output_type": "stream",
          "text": [
            "/usr/local/lib/python3.7/dist-packages/sklearn/metrics/_classification.py:1272: UndefinedMetricWarning: Precision and F-score are ill-defined and being set to 0.0 in labels with no predicted samples. Use `zero_division` parameter to control this behavior.\n",
            "  _warn_prf(average, modifier, msg_start, len(result))\n"
          ],
          "name": "stderr"
        }
      ]
    },
    {
      "cell_type": "code",
      "metadata": {
        "colab": {
          "base_uri": "https://localhost:8080/"
        },
        "id": "iOh09RtpsN7f",
        "outputId": "c1906e6a-9479-4138-a0ba-90e6099dad8f"
      },
      "source": [
        "Markov_model = Markov_sampling_SVM(train, 100, 2, 1.2, 10, \"sigmoid\")\n",
        "Markov_model_prediction = Markov_model.predict(test_x)\n",
        "print(classification_report(test_y, Markov_model_prediction),\"\\n\")\n",
        "sigmoid_kernel= metrics.accuracy_score(test_y, Markov_model_prediction)\n",
        "print(\"accuracy\", metrics.accuracy_score(test_y, Markov_model_prediction), \"\\n\")"
      ],
      "execution_count": 12,
      "outputs": [
        {
          "output_type": "stream",
          "text": [
            "              precision    recall  f1-score   support\n",
            "\n",
            "           A       0.00      0.00      0.00       156\n",
            "           B       0.04      0.24      0.06       136\n",
            "           C       0.00      0.00      0.00       142\n",
            "           D       0.00      0.00      0.00       167\n",
            "           E       0.06      0.38      0.10       152\n",
            "           F       0.00      0.00      0.00       153\n",
            "           G       0.00      0.00      0.00       164\n",
            "           H       0.00      0.00      0.00       151\n",
            "           I       0.00      0.00      0.00       165\n",
            "           J       0.00      0.00      0.00       148\n",
            "           K       0.09      0.18      0.12       146\n",
            "           L       0.00      0.00      0.00       157\n",
            "           M       0.06      0.61      0.10       144\n",
            "           N       0.00      0.00      0.00       166\n",
            "           O       0.00      0.00      0.00       139\n",
            "           P       0.00      0.00      0.00       168\n",
            "           Q       0.00      0.00      0.00       168\n",
            "           R       0.00      0.00      0.00       161\n",
            "           S       0.00      0.00      0.00       161\n",
            "           T       0.00      0.00      0.00       151\n",
            "           U       0.00      0.00      0.00       168\n",
            "           V       0.00      0.00      0.00       136\n",
            "           W       0.00      0.00      0.00       139\n",
            "           X       0.00      0.00      0.00       159\n",
            "           Y       0.00      0.00      0.00       145\n",
            "           Z       0.23      0.39      0.29       158\n",
            "\n",
            "    accuracy                           0.07      4000\n",
            "   macro avg       0.02      0.07      0.03      4000\n",
            "weighted avg       0.02      0.07      0.03      4000\n",
            " \n",
            "\n",
            "accuracy 0.066 \n",
            "\n"
          ],
          "name": "stdout"
        },
        {
          "output_type": "stream",
          "text": [
            "/usr/local/lib/python3.7/dist-packages/sklearn/metrics/_classification.py:1272: UndefinedMetricWarning: Precision and F-score are ill-defined and being set to 0.0 in labels with no predicted samples. Use `zero_division` parameter to control this behavior.\n",
            "  _warn_prf(average, modifier, msg_start, len(result))\n"
          ],
          "name": "stderr"
        }
      ]
    },
    {
      "cell_type": "code",
      "metadata": {
        "colab": {
          "base_uri": "https://localhost:8080/"
        },
        "id": "cu-VFhxksVgj",
        "outputId": "70cda77c-9547-4f6b-eae3-68c0e577b4c5"
      },
      "source": [
        "Markov_model = Markov_sampling_SVM(train, 100, 2, 1.2, 10, \"poly\")\n",
        "Markov_model_prediction = Markov_model.predict(test_x)\n",
        "print(classification_report(test_y, Markov_model_prediction),\"\\n\")\n",
        "poly_kernel= metrics.accuracy_score(test_y, Markov_model_prediction)\n",
        "print(\"accuracy\", metrics.accuracy_score(test_y, Markov_model_prediction), \"\\n\")"
      ],
      "execution_count": 13,
      "outputs": [
        {
          "output_type": "stream",
          "text": [
            "              precision    recall  f1-score   support\n",
            "\n",
            "           A       0.73      0.72      0.72       156\n",
            "           B       0.00      0.00      0.00       136\n",
            "           C       0.88      0.15      0.25       142\n",
            "           D       0.22      0.59      0.32       167\n",
            "           E       0.20      0.32      0.24       152\n",
            "           F       0.28      0.10      0.15       153\n",
            "           G       0.00      0.00      0.00       164\n",
            "           H       0.00      0.00      0.00       151\n",
            "           I       0.38      0.09      0.15       165\n",
            "           J       1.00      0.28      0.43       148\n",
            "           K       0.15      0.20      0.17       146\n",
            "           L       0.93      0.55      0.69       157\n",
            "           M       1.00      0.35      0.52       144\n",
            "           N       0.22      0.34      0.27       166\n",
            "           O       0.12      0.36      0.18       139\n",
            "           P       0.43      0.54      0.48       168\n",
            "           Q       0.10      0.08      0.09       168\n",
            "           R       0.13      0.15      0.14       161\n",
            "           S       0.42      0.06      0.11       161\n",
            "           T       0.45      0.76      0.57       151\n",
            "           U       0.59      0.51      0.55       168\n",
            "           V       0.54      0.64      0.59       136\n",
            "           W       0.84      0.55      0.66       139\n",
            "           X       0.24      0.69      0.35       159\n",
            "           Y       0.22      0.22      0.22       145\n",
            "           Z       0.57      0.53      0.55       158\n",
            "\n",
            "    accuracy                           0.34      4000\n",
            "   macro avg       0.41      0.34      0.32      4000\n",
            "weighted avg       0.40      0.34      0.32      4000\n",
            " \n",
            "\n",
            "accuracy 0.3375 \n",
            "\n"
          ],
          "name": "stdout"
        },
        {
          "output_type": "stream",
          "text": [
            "/usr/local/lib/python3.7/dist-packages/sklearn/metrics/_classification.py:1272: UndefinedMetricWarning: Precision and F-score are ill-defined and being set to 0.0 in labels with no predicted samples. Use `zero_division` parameter to control this behavior.\n",
            "  _warn_prf(average, modifier, msg_start, len(result))\n"
          ],
          "name": "stderr"
        }
      ]
    },
    {
      "cell_type": "code",
      "metadata": {
        "colab": {
          "base_uri": "https://localhost:8080/"
        },
        "id": "OcR9ScNWsbaz",
        "outputId": "70a9d969-db45-49e1-dda8-4f528292a661"
      },
      "source": [
        "print(\"Misclassification rate\\n\")\n",
        "print(\"linear_kernel     : \",linear_kernel)\n",
        "print(\"rbf_kernel        : \",rbf_kernel)\n",
        "print(\"sigmoid_kernel    : \",sigmoid_kernel)\n",
        "print(\"polynomial_kernel : \",poly_kernel)"
      ],
      "execution_count": 17,
      "outputs": [
        {
          "output_type": "stream",
          "text": [
            "Misclassification rate\n",
            "\n",
            "linear_kernel     :  0.1825\n",
            "rbf_kernel        :  0.1585\n",
            "sigmoid_kernel    :  0.066\n",
            "polynomial_kernel :  0.3375\n"
          ],
          "name": "stdout"
        }
      ]
    }
  ]
}