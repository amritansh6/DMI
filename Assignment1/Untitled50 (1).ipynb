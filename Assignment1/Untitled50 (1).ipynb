{
  "nbformat": 4,
  "nbformat_minor": 0,
  "metadata": {
    "colab": {
      "name": "Untitled50.ipynb",
      "provenance": []
    },
    "kernelspec": {
      "name": "python3",
      "display_name": "Python 3"
    },
    "language_info": {
      "name": "python"
    }
  },
  "cells": [
    {
      "cell_type": "code",
      "metadata": {
        "id": "0eVYRIjp30_P"
      },
      "source": [
        "import pandas as pd\n",
        "import numpy as np\n",
        "import matplotlib.pyplot as plt\n",
        "from sklearn.utils import shuffle\n",
        "from sklearn.model_selection import train_test_split\n",
        "from sklearn.metrics import accuracy_score, hinge_loss\n",
        "from sklearn.svm import SVC\n",
        "from sklearn.metrics import classification_report, confusion_matrix\n",
        "from sklearn.metrics import confusion_matrix\n",
        "from sklearn import metrics"
      ],
      "execution_count": 36,
      "outputs": []
    },
    {
      "cell_type": "code",
      "metadata": {
        "id": "q7m43rO84L1M",
        "colab": {
          "base_uri": "https://localhost:8080/"
        },
        "outputId": "f1655a31-4fa5-4127-f90c-7d990246e1a7"
      },
      "source": [
        "data = pd.read_csv(\"/letter-recognition.data\", delimiter = ',') \n",
        "data.columns =['Label',\t'1',\t'2',\t'3',\t'4',\t'5',\t'6',\t'7',\t'8',\t'9',\t'10',\t'11',\t'12',\t'13',\t'14',\t'15',\t'16']\n",
        "print(data)"
      ],
      "execution_count": 37,
      "outputs": [
        {
          "output_type": "stream",
          "text": [
            "      Label  1   2  3  4  5   6   7  8  9  10  11  12  13  14  15  16\n",
            "0         I  5  12  3  7  2  10   5  5  4  13   3   9   2   8   4  10\n",
            "1         D  4  11  6  8  6  10   6  2  6  10   3   7   3   7   3   9\n",
            "2         N  7  11  6  6  3   5   9  4  6   4   4  10   6  10   2   8\n",
            "3         G  2   1  3  1  1   8   6  6  6   6   5   9   1   7   5  10\n",
            "4         S  4  11  5  8  3   8   8  6  9   5   6   6   0   8   9   7\n",
            "...     ... ..  .. .. .. ..  ..  .. .. ..  ..  ..  ..  ..  ..  ..  ..\n",
            "19994     D  2   2  3  3  2   7   7  7  6   6   6   4   2   8   3   7\n",
            "19995     C  7  10  8  8  4   4   8  6  9  12   9  13   2   9   3   7\n",
            "19996     T  6   9  6  7  5   6  11  3  7  11   9   5   2  12   2   4\n",
            "19997     S  2   3  4  2  1   8   7  2  6  10   6   8   1   9   5   8\n",
            "19998     A  4   9  6  6  2   9   5  3  1   8   1   8   2   7   2   8\n",
            "\n",
            "[19999 rows x 17 columns]\n"
          ],
          "name": "stdout"
        }
      ]
    },
    {
      "cell_type": "code",
      "metadata": {
        "id": "i_yoFM0T4PWx"
      },
      "source": [
        "indexing = {'A':0, 'B':1, 'C':2, 'D':3, 'E':4, 'F':5, 'G':6, 'H':7, 'I':8, 'J':9, 'K':10, 'L':11, 'M':12, 'N':13, 'O':14, 'P':15, 'Q':16, 'R':17, 'S':18, 'T':19, 'U':20, 'V':21, 'W':22, 'X':23, 'Y':24, 'Z':25}"
      ],
      "execution_count": 38,
      "outputs": []
    },
    {
      "cell_type": "code",
      "metadata": {
        "id": "cn9xp25J4RZe"
      },
      "source": [
        "def k_time_markov_sampling_SVM(Train,n,k,q,n2,Kernel):\n",
        "\n",
        "  # step 1: draw randomly N sample\n",
        "  Random_N_sample=Train.sample(n)\n",
        "\n",
        "  #Train SVMC using differnt Kernel\n",
        "  X_Random_N_sample=Random_N_sample.drop('Label',axis=1)\n",
        "  Y_Random_N_sample=Random_N_sample['Label']\n",
        "\n",
        "  if Kernel==\"linear\":\n",
        "    Model_Sample=SVC(kernel = Kernel)\n",
        "  if Kernel==\"rbf\":\n",
        "    Model_Sample=SVC(kernel = Kernel,random_state=0)\n",
        "  if Kernel==\"sigmoid\":\n",
        "    Model_Sample=SVC(kernel = Kernel)\n",
        "  if Kernel==\"poly\":\n",
        "    Model_Sample=SVC(kernel = Kernel,degree = 2)\n",
        "\n",
        "  # f0\n",
        "  Model_Sample.fit(X_Random_N_sample,Y_Random_N_sample)\n",
        "\n",
        "  #step 3\n",
        "  N=[]\n",
        "  for i in range(k):\n",
        "    N.append(0)\n",
        "    t=1  \n",
        "\n",
        "    #draw randomly sample zt\n",
        "\n",
        "    zt=Train.sample()\n",
        "    N[i]=N[i]+1\n",
        "\n",
        "    Markov_sample=[]   # for storing the accepted zstar\n",
        "\n",
        "    #step 4\n",
        "    cnt=0\n",
        "    while True:\n",
        "\n",
        "      zstar=Train.sample()\n",
        "\n",
        "      #calculation of alpha or acceptance probablity\n",
        "      zt_x=zt.drop('Label', axis=1)\n",
        "      zt_y=zt['Label']\n",
        "      zt_decison = Model_Sample.decision_function(zt_x) \n",
        "      zt_pre = max(zt_decison[0]) \n",
        "\n",
        "      zstar_x=zstar.drop('Label', axis=1)\n",
        "      zstar_y=zstar['Label']\n",
        "      zstar_decison = Model_Sample.decision_function(zstar_x)  \n",
        "      zstar_pre = max(zstar_decison[0]) \n",
        "\n",
        "      alpha = np.exp(np.log2(abs(zstar_pre/zt_pre)))\n",
        "\n",
        "      #step 5\n",
        "\n",
        "      if round(alpha,2)==1:\n",
        "        Markov_sample.append(zstar)\n",
        "        cnt=0\n",
        "      elif alpha > 1:\n",
        "        Markov_sample.append(zstar)\n",
        "        cnt=0\n",
        "      elif cnt==n2:\n",
        "        Markov_sample.append(zstar)\n",
        "        cnt=0\n",
        "      else:\n",
        "        cnt=cnt+1\n",
        "      \n",
        "      N[i]=N[i]+1\n",
        "      zt=zstar\n",
        "\n",
        "      if N[i]<n:\n",
        "        continue\n",
        "      else :\n",
        "        break\n",
        "\n",
        "    #Step 6\n",
        "\n",
        "    Markov_sample = pd.concat(Markov_sample)\n",
        "    #Train N Markov  \n",
        "    X_Markov_sample=Markov_sample.drop('Label',axis=1)\n",
        "    Y_Markov_sample=Markov_sample['Label']\n",
        "\n",
        "    if Kernel==\"linear\":\n",
        "      Markov_Model_Sample=SVC(kernel = Kernel)\n",
        "    if Kernel==\"rbf\":\n",
        "      Markov_Model_Sample=SVC(kernel = Kernel,random_state=0)\n",
        "    if Kernel==\"sigmoid\":\n",
        "      Markov_Model_Sample=SVC(kernel = Kernel)\n",
        "    if Kernel==\"poly\":\n",
        "      Markov_Model_Sample=SVC(kernel = Kernel,degree = 2)\n",
        "\n",
        "\n",
        "    Markov_Model_Sample.fit(X_Markov_sample,Y_Markov_sample)\n",
        "\n",
        "  #step 7\n",
        "  return Markov_Model_Sample"
      ],
      "execution_count": 39,
      "outputs": []
    },
    {
      "cell_type": "code",
      "metadata": {
        "id": "AnB9FOE-4Zsq"
      },
      "source": [
        "len = round(data.shape[0]*0.8)\n",
        "train, test = data[:len], data[len:]"
      ],
      "execution_count": 40,
      "outputs": []
    },
    {
      "cell_type": "code",
      "metadata": {
        "id": "m-telbXQ4usN"
      },
      "source": [
        "test_x = test.drop('Label', axis=1)\n",
        "test_y = test['Label']"
      ],
      "execution_count": 41,
      "outputs": []
    },
    {
      "cell_type": "code",
      "metadata": {
        "id": "lfw-l39S4x1U",
        "colab": {
          "base_uri": "https://localhost:8080/"
        },
        "outputId": "882b76d8-4017-412e-d956-6e93ea11cb2b"
      },
      "source": [
        "K_time_markov_model = k_time_markov_sampling_SVM(train, 100, 2, 1.2, 10, \"linear\")\n",
        "K_time_markov_model_prediction = K_time_markov_model.predict(test_x)\n",
        "# print(test_y)\n",
        "# print(\" \")\n",
        "# print(K_time_markov_model_prediction)\n",
        "print(classification_report(test_y, K_time_markov_model_prediction),\"\\n\")\n",
        "linear_kernel= metrics.accuracy_score(test_y, K_time_markov_model_prediction)\n",
        "print(\"accuracy\", metrics.accuracy_score(test_y, K_time_markov_model_prediction), \"\\n\")"
      ],
      "execution_count": 42,
      "outputs": [
        {
          "output_type": "stream",
          "text": [
            "              precision    recall  f1-score   support\n",
            "\n",
            "           A       0.71      0.82      0.76       156\n",
            "           B       0.35      0.43      0.38       136\n",
            "           C       0.74      0.35      0.47       142\n",
            "           D       0.16      0.24      0.19       167\n",
            "           E       0.39      0.56      0.46       152\n",
            "           F       0.38      0.46      0.42       153\n",
            "           G       0.21      0.33      0.25       164\n",
            "           H       0.15      0.45      0.23       151\n",
            "           I       0.59      0.53      0.56       165\n",
            "           J       0.58      0.54      0.56       148\n",
            "           K       0.53      0.14      0.22       146\n",
            "           L       0.43      0.35      0.39       157\n",
            "           M       0.50      0.52      0.51       144\n",
            "           N       0.81      0.15      0.25       166\n",
            "           O       0.20      0.34      0.25       139\n",
            "           P       0.78      0.35      0.48       168\n",
            "           Q       0.73      0.43      0.54       168\n",
            "           R       0.41      0.53      0.46       161\n",
            "           S       0.54      0.29      0.37       161\n",
            "           T       0.60      0.26      0.37       151\n",
            "           U       0.33      0.18      0.24       168\n",
            "           V       0.49      0.53      0.51       136\n",
            "           W       0.64      0.60      0.62       139\n",
            "           X       0.30      0.28      0.29       159\n",
            "           Y       0.49      0.29      0.37       145\n",
            "           Z       0.56      0.74      0.64       158\n",
            "\n",
            "    accuracy                           0.41      4000\n",
            "   macro avg       0.48      0.41      0.41      4000\n",
            "weighted avg       0.48      0.41      0.41      4000\n",
            " \n",
            "\n",
            "accuracy 0.40925 \n",
            "\n"
          ],
          "name": "stdout"
        }
      ]
    },
    {
      "cell_type": "code",
      "metadata": {
        "colab": {
          "base_uri": "https://localhost:8080/"
        },
        "id": "aEQbl0vpR4_g",
        "outputId": "2395f58c-7675-477f-8db6-30544cf1782c"
      },
      "source": [
        "K_time_markov_model = k_time_markov_sampling_SVM(train, 100, 2, 1.2, 10, \"rbf\")\n",
        "K_time_markov_model_prediction = K_time_markov_model.predict(test_x)\n",
        "# print(test_y)\n",
        "# print(\" \")\n",
        "# print(K_time_markov_model_prediction)\n",
        "print(classification_report(test_y, K_time_markov_model_prediction),\"\\n\")\n",
        "rbf_kernel= metrics.accuracy_score(test_y, K_time_markov_model_prediction)\n",
        "print(\"accuracy\", metrics.accuracy_score(test_y, K_time_markov_model_prediction), \"\\n\")"
      ],
      "execution_count": 43,
      "outputs": [
        {
          "output_type": "stream",
          "text": [
            "              precision    recall  f1-score   support\n",
            "\n",
            "           A       0.94      0.47      0.63       156\n",
            "           B       0.17      0.02      0.04       136\n",
            "           C       0.00      0.00      0.00       142\n",
            "           D       0.00      0.00      0.00       167\n",
            "           E       0.79      0.22      0.34       152\n",
            "           F       0.15      0.84      0.25       153\n",
            "           G       0.18      0.03      0.05       164\n",
            "           H       0.00      0.00      0.00       151\n",
            "           I       0.94      0.21      0.34       165\n",
            "           J       0.00      0.00      0.00       148\n",
            "           K       0.47      0.05      0.10       146\n",
            "           L       1.00      0.01      0.01       157\n",
            "           M       0.00      0.00      0.00       144\n",
            "           N       0.39      0.13      0.20       166\n",
            "           O       0.16      0.73      0.27       139\n",
            "           P       0.00      0.00      0.00       168\n",
            "           Q       0.15      0.70      0.25       168\n",
            "           R       0.12      0.65      0.20       161\n",
            "           S       0.00      0.00      0.00       161\n",
            "           T       0.73      0.22      0.34       151\n",
            "           U       1.00      0.11      0.19       168\n",
            "           V       0.56      0.58      0.57       136\n",
            "           W       0.45      0.76      0.57       139\n",
            "           X       0.20      0.11      0.14       159\n",
            "           Y       0.30      0.13      0.18       145\n",
            "           Z       0.00      0.00      0.00       158\n",
            "\n",
            "    accuracy                           0.23      4000\n",
            "   macro avg       0.33      0.23      0.18      4000\n",
            "weighted avg       0.34      0.23      0.18      4000\n",
            " \n",
            "\n",
            "accuracy 0.226 \n",
            "\n"
          ],
          "name": "stdout"
        },
        {
          "output_type": "stream",
          "text": [
            "/usr/local/lib/python3.7/dist-packages/sklearn/metrics/_classification.py:1272: UndefinedMetricWarning: Precision and F-score are ill-defined and being set to 0.0 in labels with no predicted samples. Use `zero_division` parameter to control this behavior.\n",
            "  _warn_prf(average, modifier, msg_start, len(result))\n"
          ],
          "name": "stderr"
        }
      ]
    },
    {
      "cell_type": "code",
      "metadata": {
        "colab": {
          "base_uri": "https://localhost:8080/"
        },
        "id": "wXdkzKSWR6xd",
        "outputId": "f873f72f-766e-415c-d4c4-eae955d9c1e1"
      },
      "source": [
        "K_time_markov_model = k_time_markov_sampling_SVM(train, 100, 2, 1.2, 10, \"sigmoid\")\n",
        "K_time_markov_model_prediction = K_time_markov_model.predict(test_x)\n",
        "# print(test_y)\n",
        "# print(\" \")\n",
        "# print(K_time_markov_model_prediction)\n",
        "print(classification_report(test_y, K_time_markov_model_prediction),\"\\n\")\n",
        "sigmoid_kernel= metrics.accuracy_score(test_y, K_time_markov_model_prediction)\n",
        "print(\"accuracy\", metrics.accuracy_score(test_y, K_time_markov_model_prediction), \"\\n\")"
      ],
      "execution_count": 44,
      "outputs": [
        {
          "output_type": "stream",
          "text": [
            "              precision    recall  f1-score   support\n",
            "\n",
            "           A       0.00      0.00      0.00       156\n",
            "           B       0.00      0.00      0.00       136\n",
            "           C       0.00      0.00      0.00       142\n",
            "           D       0.00      0.00      0.00       167\n",
            "           E       0.00      0.00      0.00       152\n",
            "           F       0.00      0.00      0.00       153\n",
            "           G       0.00      0.00      0.00       164\n",
            "           H       0.00      0.00      0.00       151\n",
            "           I       0.00      0.00      0.00       165\n",
            "           J       0.00      0.00      0.00       148\n",
            "           K       0.00      0.00      0.00       146\n",
            "           L       0.05      0.55      0.09       157\n",
            "           M       0.00      0.00      0.00       144\n",
            "           N       0.00      0.00      0.00       166\n",
            "           O       0.00      0.00      0.00       139\n",
            "           P       0.00      0.00      0.00       168\n",
            "           Q       0.00      0.00      0.00       168\n",
            "           R       0.00      0.00      0.00       161\n",
            "           S       0.00      0.00      0.00       161\n",
            "           T       0.00      0.00      0.00       151\n",
            "           U       0.00      0.00      0.00       168\n",
            "           V       0.00      0.00      0.00       136\n",
            "           W       0.00      0.00      0.00       139\n",
            "           X       0.04      0.58      0.08       159\n",
            "           Y       0.00      0.00      0.00       145\n",
            "           Z       0.00      0.00      0.00       158\n",
            "\n",
            "    accuracy                           0.04      4000\n",
            "   macro avg       0.00      0.04      0.01      4000\n",
            "weighted avg       0.00      0.04      0.01      4000\n",
            " \n",
            "\n",
            "accuracy 0.0445 \n",
            "\n"
          ],
          "name": "stdout"
        },
        {
          "output_type": "stream",
          "text": [
            "/usr/local/lib/python3.7/dist-packages/sklearn/metrics/_classification.py:1272: UndefinedMetricWarning: Precision and F-score are ill-defined and being set to 0.0 in labels with no predicted samples. Use `zero_division` parameter to control this behavior.\n",
            "  _warn_prf(average, modifier, msg_start, len(result))\n"
          ],
          "name": "stderr"
        }
      ]
    },
    {
      "cell_type": "code",
      "metadata": {
        "colab": {
          "base_uri": "https://localhost:8080/"
        },
        "id": "TIodRVlJR7Mj",
        "outputId": "cb4469a3-7424-4dd8-845c-c0f39acd57cd"
      },
      "source": [
        "K_time_markov_model = k_time_markov_sampling_SVM(train, 100, 2, 1.2, 10, \"poly\")\n",
        "K_time_markov_model_prediction = K_time_markov_model.predict(test_x)\n",
        "# print(test_y)\n",
        "# print(\" \")\n",
        "# print(K_time_markov_model_prediction)\n",
        "print(classification_report(test_y, K_time_markov_model_prediction),\"\\n\")\n",
        "polynomial_kernel= metrics.accuracy_score(test_y, K_time_markov_model_prediction)\n",
        "print(\"accuracy\", metrics.accuracy_score(test_y, K_time_markov_model_prediction), \"\\n\")"
      ],
      "execution_count": 45,
      "outputs": [
        {
          "output_type": "stream",
          "text": [
            "              precision    recall  f1-score   support\n",
            "\n",
            "           A       0.00      0.00      0.00       156\n",
            "           B       0.28      0.12      0.16       136\n",
            "           C       0.29      0.07      0.11       142\n",
            "           D       0.19      0.08      0.12       167\n",
            "           E       0.18      0.22      0.20       152\n",
            "           F       0.23      0.07      0.11       153\n",
            "           G       0.20      0.40      0.27       164\n",
            "           H       0.26      0.20      0.23       151\n",
            "           I       0.54      0.76      0.63       165\n",
            "           J       0.94      0.22      0.36       148\n",
            "           K       0.37      0.13      0.19       146\n",
            "           L       0.78      0.68      0.73       157\n",
            "           M       0.48      0.15      0.23       144\n",
            "           N       0.46      0.35      0.40       166\n",
            "           O       0.27      0.71      0.39       139\n",
            "           P       0.50      0.45      0.48       168\n",
            "           Q       0.18      0.24      0.21       168\n",
            "           R       0.27      0.81      0.40       161\n",
            "           S       0.19      0.22      0.20       161\n",
            "           T       0.54      0.53      0.54       151\n",
            "           U       0.58      0.36      0.45       168\n",
            "           V       0.18      0.58      0.28       136\n",
            "           W       0.88      0.81      0.84       139\n",
            "           X       0.19      0.14      0.16       159\n",
            "           Y       0.26      0.19      0.22       145\n",
            "           Z       0.79      0.41      0.54       158\n",
            "\n",
            "    accuracy                           0.34      4000\n",
            "   macro avg       0.39      0.34      0.32      4000\n",
            "weighted avg       0.39      0.34      0.33      4000\n",
            " \n",
            "\n",
            "accuracy 0.343 \n",
            "\n"
          ],
          "name": "stdout"
        },
        {
          "output_type": "stream",
          "text": [
            "/usr/local/lib/python3.7/dist-packages/sklearn/metrics/_classification.py:1272: UndefinedMetricWarning: Precision and F-score are ill-defined and being set to 0.0 in labels with no predicted samples. Use `zero_division` parameter to control this behavior.\n",
            "  _warn_prf(average, modifier, msg_start, len(result))\n"
          ],
          "name": "stderr"
        }
      ]
    },
    {
      "cell_type": "code",
      "metadata": {
        "colab": {
          "base_uri": "https://localhost:8080/"
        },
        "id": "dCx61j8oWQ13",
        "outputId": "b9d58045-d78e-4734-978f-071d972601c0"
      },
      "source": [
        "print(\"Accuracy\\n\")\n",
        "print(\"linear_kernel     : \",linear_kernel*100)\n",
        "print(\"rbf_kernel        : \",rbf_kernel*100)\n",
        "print(\"sigmoid_kernel    : \",sigmoid_kernel*100)\n",
        "print(\"polynomial_kernel : \",polynomial_kernel*100)"
      ],
      "execution_count": 46,
      "outputs": [
        {
          "output_type": "stream",
          "text": [
            "Accuracy\n",
            "\n",
            "linear_kernel     :  40.925\n",
            "rbf_kernel        :  22.6\n",
            "sigmoid_kernel    :  4.45\n",
            "polynomial_kernel :  34.300000000000004\n"
          ],
          "name": "stdout"
        }
      ]
    }
  ]
}