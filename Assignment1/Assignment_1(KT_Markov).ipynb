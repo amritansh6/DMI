{
  "nbformat": 4,
  "nbformat_minor": 0,
  "metadata": {
    "colab": {
      "name": "Assignment-1(KT-Markov).ipynb",
      "provenance": []
    },
    "kernelspec": {
      "name": "python3",
      "display_name": "Python 3"
    },
    "language_info": {
      "name": "python"
    }
  },
  "cells": [
    {
      "cell_type": "code",
      "metadata": {
        "id": "0eVYRIjp30_P"
      },
      "source": [
        "import pandas as pd\n",
        "import numpy as np\n",
        "import matplotlib.pyplot as plt\n",
        "from sklearn.utils import shuffle\n",
        "from sklearn.model_selection import train_test_split\n",
        "from sklearn.metrics import accuracy_score, hinge_loss\n",
        "from sklearn.svm import SVC\n",
        "from sklearn.metrics import classification_report, confusion_matrix\n",
        "from sklearn.metrics import confusion_matrix\n",
        "from sklearn import metrics"
      ],
      "execution_count": 1,
      "outputs": []
    },
    {
      "cell_type": "code",
      "metadata": {
        "id": "q7m43rO84L1M",
        "colab": {
          "base_uri": "https://localhost:8080/"
        },
        "outputId": "2bd5600c-ba2c-4d1a-8e2e-607d3cd78d62"
      },
      "source": [
        "data = pd.read_csv(\"letter-recognition.data\", delimiter = ',') \n",
        "data.columns =['Label',\t'1',\t'2',\t'3',\t'4',\t'5',\t'6',\t'7',\t'8',\t'9',\t'10',\t'11',\t'12',\t'13',\t'14',\t'15',\t'16']\n",
        "print(data[:5])\n",
        "indexing = {'A':0, 'B':1, 'C':2, 'D':3, 'E':4, 'F':5, 'G':6, 'H':7, 'I':8, 'J':9, 'K':10, 'L':11, 'M':12, 'N':13, 'O':14, 'P':15, 'Q':16, 'R':17, 'S':18, 'T':19, 'U':20, 'V':21, 'W':22, 'X':23, 'Y':24, 'Z':25}"
      ],
      "execution_count": 2,
      "outputs": [
        {
          "output_type": "stream",
          "text": [
            "  Label  1   2  3  4  5   6  7  8  9  10  11  12  13  14  15  16\n",
            "0     I  5  12  3  7  2  10  5  5  4  13   3   9   2   8   4  10\n",
            "1     D  4  11  6  8  6  10  6  2  6  10   3   7   3   7   3   9\n",
            "2     N  7  11  6  6  3   5  9  4  6   4   4  10   6  10   2   8\n",
            "3     G  2   1  3  1  1   8  6  6  6   6   5   9   1   7   5  10\n",
            "4     S  4  11  5  8  3   8  8  6  9   5   6   6   0   8   9   7\n"
          ],
          "name": "stdout"
        }
      ]
    },
    {
      "cell_type": "code",
      "metadata": {
        "id": "i_yoFM0T4PWx"
      },
      "source": [
        ""
      ],
      "execution_count": 2,
      "outputs": []
    },
    {
      "cell_type": "code",
      "metadata": {
        "id": "cn9xp25J4RZe"
      },
      "source": [
        "def k_time_markov_sampling_SVM(Train,n,k,q,n2,Kernel):\n",
        "\n",
        "  # step 1: draw randomly N sample\n",
        "  Random_N_sample=Train.sample(n)\n",
        "\n",
        "  #Train SVMC using differnt Kernel\n",
        "  X_Random_N_sample=Random_N_sample.drop('Label',axis=1)\n",
        "  Y_Random_N_sample=Random_N_sample['Label']\n",
        "\n",
        "  if Kernel==\"linear\":\n",
        "    Model_Sample=SVC(kernel = Kernel)\n",
        "  if Kernel==\"rbf\":\n",
        "    Model_Sample=SVC(kernel = Kernel,random_state=0)\n",
        "  if Kernel==\"sigmoid\":\n",
        "    Model_Sample=SVC(kernel = Kernel)\n",
        "  if Kernel==\"poly\":\n",
        "    Model_Sample=SVC(kernel = Kernel,degree = 2)\n",
        "\n",
        "  # f0\n",
        "  Model_Sample.fit(X_Random_N_sample,Y_Random_N_sample)\n",
        "\n",
        "  #step 3\n",
        "  N=[]\n",
        "  for i in range(k):\n",
        "    N.append(0)\n",
        "    t=1  \n",
        "\n",
        "    #draw randomly sample zt\n",
        "\n",
        "    zt=Train.sample()\n",
        "    N[i]=N[i]+1\n",
        "\n",
        "    Markov_sample=[]   # for storing the accepted zstar\n",
        "\n",
        "    #step 4\n",
        "    cnt=0\n",
        "    while True:\n",
        "\n",
        "      zstar=Train.sample()\n",
        "\n",
        "      #calculation of alpha or acceptance probablity\n",
        "      zt_x=zt.drop('Label', axis=1)\n",
        "      zt_y=zt['Label']\n",
        "      zt_decison = Model_Sample.decision_function(zt_x) \n",
        "      zt_pre = max(zt_decison[0]) \n",
        "\n",
        "      zstar_x=zstar.drop('Label', axis=1)\n",
        "      zstar_y=zstar['Label']\n",
        "      zstar_decison = Model_Sample.decision_function(zstar_x)  \n",
        "      zstar_pre = max(zstar_decison[0]) \n",
        "\n",
        "      alpha = np.exp(np.log2(abs(zstar_pre/zt_pre)))\n",
        "\n",
        "      #step 5\n",
        "\n",
        "      if round(alpha,2)==1:\n",
        "        Markov_sample.append(zstar)\n",
        "        cnt=0\n",
        "      elif alpha > 1:\n",
        "        Markov_sample.append(zstar)\n",
        "        cnt=0\n",
        "      elif cnt==n2:\n",
        "        Markov_sample.append(zstar)\n",
        "        cnt=0\n",
        "      else:\n",
        "        cnt=cnt+1\n",
        "      \n",
        "      N[i]=N[i]+1\n",
        "      zt=zstar\n",
        "\n",
        "      if N[i]<n:\n",
        "        continue\n",
        "      else :\n",
        "        break\n",
        "\n",
        "    #Step 6\n",
        "\n",
        "    Markov_sample = pd.concat(Markov_sample)\n",
        "    #Train N Markov  \n",
        "    X_Markov_sample=Markov_sample.drop('Label',axis=1)\n",
        "    Y_Markov_sample=Markov_sample['Label']\n",
        "\n",
        "    if Kernel==\"linear\":\n",
        "      Markov_Model_Sample=SVC(kernel = Kernel)\n",
        "    if Kernel==\"rbf\":\n",
        "      Markov_Model_Sample=SVC(kernel = Kernel,random_state=0)\n",
        "    if Kernel==\"sigmoid\":\n",
        "      Markov_Model_Sample=SVC(kernel = Kernel)\n",
        "    if Kernel==\"poly\":\n",
        "      Markov_Model_Sample=SVC(kernel = Kernel,degree = 2)\n",
        "\n",
        "\n",
        "    Markov_Model_Sample.fit(X_Markov_sample,Y_Markov_sample)\n",
        "\n",
        "  #step 7\n",
        "  return Markov_Model_Sample"
      ],
      "execution_count": 3,
      "outputs": []
    },
    {
      "cell_type": "code",
      "metadata": {
        "id": "AnB9FOE-4Zsq"
      },
      "source": [
        "len = round(data.shape[0]*0.8)\n",
        "train, test = data[:len], data[len:]"
      ],
      "execution_count": 4,
      "outputs": []
    },
    {
      "cell_type": "code",
      "metadata": {
        "id": "m-telbXQ4usN"
      },
      "source": [
        "test_x = test.drop('Label', axis=1)\n",
        "test_y = test['Label']"
      ],
      "execution_count": 5,
      "outputs": []
    },
    {
      "cell_type": "code",
      "metadata": {
        "id": "lfw-l39S4x1U",
        "colab": {
          "base_uri": "https://localhost:8080/"
        },
        "outputId": "12792895-7a51-4616-d275-c58cd58c3883"
      },
      "source": [
        "K_time_markov_model = k_time_markov_sampling_SVM(train, 100, 2, 1.2, 10, \"linear\")\n",
        "K_time_markov_model_prediction = K_time_markov_model.predict(test_x)\n",
        "# print(test_y)\n",
        "# print(\" \")\n",
        "# print(K_time_markov_model_prediction)\n",
        "print(classification_report(test_y, K_time_markov_model_prediction),\"\\n\")\n",
        "linear_kernel= metrics.accuracy_score(test_y, K_time_markov_model_prediction)\n",
        "print(\"accuracy\", metrics.accuracy_score(test_y, K_time_markov_model_prediction), \"\\n\")"
      ],
      "execution_count": 6,
      "outputs": [
        {
          "output_type": "stream",
          "text": [
            "              precision    recall  f1-score   support\n",
            "\n",
            "           A       0.58      0.88      0.70       156\n",
            "           B       0.19      0.35      0.25       136\n",
            "           C       0.55      0.63      0.58       142\n",
            "           D       0.26      0.20      0.23       167\n",
            "           E       0.56      0.63      0.59       152\n",
            "           F       0.43      0.60      0.50       153\n",
            "           G       0.31      0.16      0.21       164\n",
            "           H       0.14      0.17      0.15       151\n",
            "           I       0.78      0.35      0.48       165\n",
            "           J       0.60      0.44      0.51       148\n",
            "           K       0.30      0.47      0.37       146\n",
            "           L       0.91      0.78      0.84       157\n",
            "           M       0.35      0.51      0.42       144\n",
            "           N       0.29      0.12      0.17       166\n",
            "           O       0.29      0.50      0.37       139\n",
            "           P       0.32      0.33      0.32       168\n",
            "           Q       0.94      0.18      0.30       168\n",
            "           R       0.47      0.29      0.36       161\n",
            "           S       0.36      0.30      0.33       161\n",
            "           T       0.58      0.32      0.42       151\n",
            "           U       0.54      0.51      0.53       168\n",
            "           V       0.38      0.66      0.48       136\n",
            "           W       0.65      0.58      0.61       139\n",
            "           X       0.26      0.28      0.27       159\n",
            "           Y       0.35      0.53      0.42       145\n",
            "           Z       0.87      0.46      0.60       158\n",
            "\n",
            "    accuracy                           0.43      4000\n",
            "   macro avg       0.47      0.43      0.42      4000\n",
            "weighted avg       0.47      0.43      0.42      4000\n",
            " \n",
            "\n",
            "accuracy 0.42575 \n",
            "\n"
          ],
          "name": "stdout"
        }
      ]
    },
    {
      "cell_type": "code",
      "metadata": {
        "colab": {
          "base_uri": "https://localhost:8080/"
        },
        "id": "aEQbl0vpR4_g",
        "outputId": "1d95ab5e-8088-422c-dd6d-5ac30db69289"
      },
      "source": [
        "K_time_markov_model = k_time_markov_sampling_SVM(train, 100, 2, 1.2, 10, \"rbf\")\n",
        "K_time_markov_model_prediction = K_time_markov_model.predict(test_x)\n",
        "# print(test_y)\n",
        "# print(\" \")\n",
        "# print(K_time_markov_model_prediction)\n",
        "print(classification_report(test_y, K_time_markov_model_prediction),\"\\n\")\n",
        "rbf_kernel= metrics.accuracy_score(test_y, K_time_markov_model_prediction)\n",
        "print(\"accuracy\", metrics.accuracy_score(test_y, K_time_markov_model_prediction), \"\\n\")"
      ],
      "execution_count": 7,
      "outputs": [
        {
          "output_type": "stream",
          "text": [
            "              precision    recall  f1-score   support\n",
            "\n",
            "           A       0.97      0.58      0.72       156\n",
            "           B       0.16      0.10      0.12       136\n",
            "           C       0.33      0.63      0.44       142\n",
            "           D       0.36      0.06      0.10       167\n",
            "           E       0.10      0.64      0.18       152\n",
            "           F       0.00      0.00      0.00       153\n",
            "           G       0.00      0.00      0.00       164\n",
            "           H       0.00      0.00      0.00       151\n",
            "           I       0.00      0.00      0.00       165\n",
            "           J       0.76      0.61      0.67       148\n",
            "           K       0.12      0.24      0.16       146\n",
            "           L       0.57      0.72      0.64       157\n",
            "           M       0.00      0.00      0.00       144\n",
            "           N       0.35      0.04      0.08       166\n",
            "           O       0.09      0.48      0.16       139\n",
            "           P       0.24      0.90      0.37       168\n",
            "           Q       0.00      0.00      0.00       168\n",
            "           R       0.00      0.00      0.00       161\n",
            "           S       0.00      0.00      0.00       161\n",
            "           T       0.00      0.00      0.00       151\n",
            "           U       1.00      0.16      0.28       168\n",
            "           V       0.34      0.79      0.47       136\n",
            "           W       0.42      0.50      0.46       139\n",
            "           X       0.22      0.16      0.18       159\n",
            "           Y       0.00      0.00      0.00       145\n",
            "           Z       0.00      0.00      0.00       158\n",
            "\n",
            "    accuracy                           0.25      4000\n",
            "   macro avg       0.23      0.25      0.19      4000\n",
            "weighted avg       0.23      0.25      0.19      4000\n",
            " \n",
            "\n",
            "accuracy 0.24775 \n",
            "\n"
          ],
          "name": "stdout"
        },
        {
          "output_type": "stream",
          "text": [
            "/usr/local/lib/python3.7/dist-packages/sklearn/metrics/_classification.py:1272: UndefinedMetricWarning: Precision and F-score are ill-defined and being set to 0.0 in labels with no predicted samples. Use `zero_division` parameter to control this behavior.\n",
            "  _warn_prf(average, modifier, msg_start, len(result))\n"
          ],
          "name": "stderr"
        }
      ]
    },
    {
      "cell_type": "code",
      "metadata": {
        "colab": {
          "base_uri": "https://localhost:8080/"
        },
        "id": "wXdkzKSWR6xd",
        "outputId": "f47a6760-87c4-4f8f-9dd9-3a1ffedc1256"
      },
      "source": [
        "K_time_markov_model = k_time_markov_sampling_SVM(train, 100, 2, 1.2, 10, \"sigmoid\")\n",
        "K_time_markov_model_prediction = K_time_markov_model.predict(test_x)\n",
        "# print(test_y)\n",
        "# print(\" \")\n",
        "# print(K_time_markov_model_prediction)\n",
        "print(classification_report(test_y, K_time_markov_model_prediction),\"\\n\")\n",
        "sigmoid_kernel= metrics.accuracy_score(test_y, K_time_markov_model_prediction)\n",
        "print(\"accuracy\", metrics.accuracy_score(test_y, K_time_markov_model_prediction), \"\\n\")"
      ],
      "execution_count": 8,
      "outputs": [
        {
          "output_type": "stream",
          "text": [
            "              precision    recall  f1-score   support\n",
            "\n",
            "           A       0.00      0.00      0.00       156\n",
            "           B       0.00      0.00      0.00       136\n",
            "           C       0.00      0.00      0.00       142\n",
            "           D       0.00      0.00      0.00       167\n",
            "           E       0.00      0.00      0.00       152\n",
            "           F       0.00      0.00      0.00       153\n",
            "           G       0.00      0.00      0.00       164\n",
            "           H       0.00      0.00      0.00       151\n",
            "           I       0.00      0.00      0.00       165\n",
            "           J       0.04      1.00      0.07       148\n",
            "           K       0.00      0.00      0.00       146\n",
            "           L       0.00      0.00      0.00       157\n",
            "           M       0.00      0.00      0.00       144\n",
            "           N       0.00      0.00      0.00       166\n",
            "           O       0.00      0.00      0.00       139\n",
            "           P       0.00      0.00      0.00       168\n",
            "           Q       0.00      0.00      0.00       168\n",
            "           R       0.00      0.00      0.00       161\n",
            "           S       0.00      0.00      0.00       161\n",
            "           T       0.00      0.00      0.00       151\n",
            "           U       0.00      0.00      0.00       168\n",
            "           V       0.00      0.00      0.00       136\n",
            "           W       0.00      0.00      0.00       139\n",
            "           X       0.00      0.00      0.00       159\n",
            "           Y       0.00      0.00      0.00       145\n",
            "           Z       0.00      0.00      0.00       158\n",
            "\n",
            "    accuracy                           0.04      4000\n",
            "   macro avg       0.00      0.04      0.00      4000\n",
            "weighted avg       0.00      0.04      0.00      4000\n",
            " \n",
            "\n",
            "accuracy 0.037 \n",
            "\n"
          ],
          "name": "stdout"
        },
        {
          "output_type": "stream",
          "text": [
            "/usr/local/lib/python3.7/dist-packages/sklearn/metrics/_classification.py:1272: UndefinedMetricWarning: Precision and F-score are ill-defined and being set to 0.0 in labels with no predicted samples. Use `zero_division` parameter to control this behavior.\n",
            "  _warn_prf(average, modifier, msg_start, len(result))\n"
          ],
          "name": "stderr"
        }
      ]
    },
    {
      "cell_type": "code",
      "metadata": {
        "colab": {
          "base_uri": "https://localhost:8080/"
        },
        "id": "TIodRVlJR7Mj",
        "outputId": "e79b5d57-1585-4621-99d3-520cb2d958d3"
      },
      "source": [
        "K_time_markov_model = k_time_markov_sampling_SVM(train, 100, 2, 1.2, 10, \"poly\")\n",
        "K_time_markov_model_prediction = K_time_markov_model.predict(test_x)\n",
        "# print(test_y)\n",
        "# print(\" \")\n",
        "# print(K_time_markov_model_prediction)\n",
        "print(classification_report(test_y, K_time_markov_model_prediction),\"\\n\")\n",
        "polynomial_kernel= metrics.accuracy_score(test_y, K_time_markov_model_prediction)\n",
        "print(\"accuracy\", metrics.accuracy_score(test_y, K_time_markov_model_prediction), \"\\n\")"
      ],
      "execution_count": 9,
      "outputs": [
        {
          "output_type": "stream",
          "text": [
            "              precision    recall  f1-score   support\n",
            "\n",
            "           A       0.68      0.88      0.77       156\n",
            "           B       0.22      0.15      0.18       136\n",
            "           C       0.85      0.59      0.70       142\n",
            "           D       0.37      0.69      0.48       167\n",
            "           E       0.56      0.20      0.30       152\n",
            "           F       0.48      0.66      0.56       153\n",
            "           G       0.21      0.74      0.33       164\n",
            "           H       0.21      0.62      0.31       151\n",
            "           I       0.48      0.68      0.57       165\n",
            "           J       0.98      0.42      0.59       148\n",
            "           K       0.19      0.07      0.10       146\n",
            "           L       0.00      0.00      0.00       157\n",
            "           M       0.88      0.70      0.78       144\n",
            "           N       0.64      0.70      0.67       166\n",
            "           O       0.00      0.00      0.00       139\n",
            "           P       0.71      0.49      0.58       168\n",
            "           Q       0.71      0.36      0.48       168\n",
            "           R       0.63      0.43      0.51       161\n",
            "           S       0.16      0.29      0.21       161\n",
            "           T       0.59      0.50      0.54       151\n",
            "           U       1.00      0.25      0.40       168\n",
            "           V       0.70      0.52      0.60       136\n",
            "           W       0.75      0.78      0.76       139\n",
            "           X       0.28      0.23      0.25       159\n",
            "           Y       0.62      0.37      0.46       145\n",
            "           Z       0.76      0.37      0.50       158\n",
            "\n",
            "    accuracy                           0.45      4000\n",
            "   macro avg       0.53      0.45      0.45      4000\n",
            "weighted avg       0.53      0.45      0.45      4000\n",
            " \n",
            "\n",
            "accuracy 0.452 \n",
            "\n"
          ],
          "name": "stdout"
        },
        {
          "output_type": "stream",
          "text": [
            "/usr/local/lib/python3.7/dist-packages/sklearn/metrics/_classification.py:1272: UndefinedMetricWarning: Precision and F-score are ill-defined and being set to 0.0 in labels with no predicted samples. Use `zero_division` parameter to control this behavior.\n",
            "  _warn_prf(average, modifier, msg_start, len(result))\n"
          ],
          "name": "stderr"
        }
      ]
    },
    {
      "cell_type": "code",
      "metadata": {
        "colab": {
          "base_uri": "https://localhost:8080/"
        },
        "id": "dCx61j8oWQ13",
        "outputId": "0aaa0403-3f89-42c3-9668-3a71e271fc86"
      },
      "source": [
        "print(\"Accuracy\\n\")\n",
        "print(\"linear_kernel     : \",linear_kernel*100)\n",
        "print(\"rbf_kernel        : \",rbf_kernel*100)\n",
        "print(\"sigmoid_kernel    : \",sigmoid_kernel*100)\n",
        "print(\"polynomial_kernel : \",polynomial_kernel*100)"
      ],
      "execution_count": 10,
      "outputs": [
        {
          "output_type": "stream",
          "text": [
            "Accuracy\n",
            "\n",
            "linear_kernel     :  42.575\n",
            "rbf_kernel        :  24.775\n",
            "sigmoid_kernel    :  3.6999999999999997\n",
            "polynomial_kernel :  45.2\n"
          ],
          "name": "stdout"
        }
      ]
    },
    {
      "cell_type": "code",
      "metadata": {
        "colab": {
          "base_uri": "https://localhost:8080/"
        },
        "id": "4KPuVIomqWyl",
        "outputId": "025dced0-42d7-4140-a0a0-82d16851f5bc"
      },
      "source": [
        "print(\"Misclassification rate\\n\")\n",
        "print(\"linear_kernel     : \",1-linear_kernel)\n",
        "print(\"rbf_kernel        : \",1-rbf_kernel)\n",
        "print(\"sigmoid_kernel    : \",1-sigmoid_kernel)\n",
        "print(\"polynomial_kernel : \",1-polynomial_kernel)"
      ],
      "execution_count": 12,
      "outputs": [
        {
          "output_type": "stream",
          "text": [
            "Misclassification rate\n",
            "\n",
            "linear_kernel     :  0.5742499999999999\n",
            "rbf_kernel        :  0.75225\n",
            "sigmoid_kernel    :  0.963\n",
            "polynomial_kernel :  0.548\n"
          ],
          "name": "stdout"
        }
      ]
    }
  ]
}